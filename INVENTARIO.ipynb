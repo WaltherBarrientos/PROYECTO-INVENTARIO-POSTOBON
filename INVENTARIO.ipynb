{
 "cells": [
  {
   "cell_type": "markdown",
   "metadata": {},
   "source": [
    "# 📦 Gestor de Inventario\n",
    "\n",
    "## Funciones Principales\n",
    "\n",
    "### 1. Registro de Productos 📝\n",
    "- **Descripción:** Permite ingresar nuevos productos al sistema.\n",
    "- **Campos:** Nombre, Categoría, Precio, Cantidad en stock.\n",
    "\n",
    "### 2. Actualización de Stock 🔄\n",
    "- **Descripción:** Actualiza las cantidades de productos disponibles.\n",
    "- **Método:** Añadir o sustraer unidades.\n",
    "\n",
    "### 3. Consultas de Productos 🔍\n",
    "- **Descripción:** Permite buscar productos por diversos criterios.\n",
    "- **Filtros:** Nombre, Categoría, Menor precio, Mayor precio.\n",
    "\n",
    "### 4. Reportes de Inventario 📊\n",
    "- **Descripción:** Genera informes sobre el estado del inventario.\n",
    "- **Tipos de reporte:** Valor total, Productos por agotarse, Histórico de ventas.\n"
   ]
  },
  {
   "cell_type": "code",
   "execution_count": 1,
   "metadata": {},
   "outputs": [
    {
     "name": "stdout",
     "output_type": "stream",
     "text": [
      "bienbenido walther a python3\n"
     ]
    }
   ],
   "source": [
    "print(\"bienbenido walther a python3\")"
   ]
  },
  {
   "cell_type": "markdown",
   "metadata": {},
   "source": [
    "# Este codigo hace el etl con multiples datos"
   ]
  },
  {
   "cell_type": "markdown",
   "metadata": {},
   "source": [
    "## Script de ETL y Adición de Columnas\n",
    "\n",
    "Este script realiza una transformación de datos desde un archivo Excel, aplicando diversas limpiezas y formateos, además de agregar nuevas columnas que no estaban presentes en el archivo original. Posteriormente, agrupa y reduce el número de filas para optimizar el manejo de datos y asegura que todas las columnas requeridas están presentes en el archivo final.\n",
    "\n",
    "### Pasos Realizados:\n",
    "1. Lectura del archivo Excel original.\n",
    "2. Limpieza y formateo de los datos, incluyendo la normalización de columnas y la conversión de datos numéricos.\n",
    "3. Verificación y adición de nuevas columnas si no están presentes en el archivo original.\n",
    "4. Agrupación de datos para reducir el número de filas utilizando funciones `lambda`.\n",
    "5. Renombramiento y reordenamiento de columnas según el orden especificado.\n",
    "6. Exportación del DataFrame procesado a un archivo Excel final.\n",
    "\n",
    "### Nota:\n",
    "Este script es esencial para mantener la integridad y consistencia de los datos, asegurando que se ajusten a los requerimientos específicos de nuestro sistema.\n"
   ]
  },
  {
   "cell_type": "markdown",
   "metadata": {},
   "source": [
    "# Transformación de CSV a Excel con Columnas Específicas\n",
    "\n",
    "Este algoritmo lee un archivo CSV, agrega columnas faltantes necesarias y reordena las columnas para guardarlo como un archivo Excel con un formato específico.\n",
    "\n",
    "## Funcionalidad Principal\n",
    "\n",
    "- Lee el archivo CSV proporcionado.\n",
    "- Agrega columnas faltantes con valores `NaN`.\n",
    "- Reordena las columnas según un orden predefinido.\n",
    "- Guarda el DataFrame resultante como un archivo Excel.\n"
   ]
  },
  {
   "cell_type": "code",
   "execution_count": 2,
   "metadata": {},
   "outputs": [
    {
     "name": "stdout",
     "output_type": "stream",
     "text": [
      "Ejecutando el script Python...\n",
      "Columnas en el DataFrame: ['Centro', 'Material', 'Almacén', 'Planif.necesidades', 'Caract.planif.nec.', 'Tipo material', 'Grupo de artículos', 'División', 'Sector', 'Mes', 'ValStkVal', 'ValStkVal.1', 'CtdStk SV', 'CtdStk SV.1', 'Últ.entr.']\n",
      "El archivo ha sido guardado exitosamente como: C:\\Users\\pracmt\\Downloads\\archivoactualizado.csv\n"
     ]
    }
   ],
   "source": [
    "def execute_python_script():\n",
    "    import pandas as pd\n",
    "    from datetime import datetime\n",
    " \n",
    "    try:\n",
    "        print(\"Ejecutando el script Python...\")\n",
    "        file_path = r\"C:\\Users\\pracmt\\Downloads\\actualizacion inventario\\inventarioactual.xlsx\"\n",
    "        data = pd.read_excel(file_path)\n",
    "        print(\"Columnas en el DataFrame:\", data.columns.tolist())\n",
    " \n",
    "        # Limpieza y formateo inicial de datos\n",
    "        data.columns = data.columns.str.strip()\n",
    "        data['CENTRO'] = data['Centro'].astype(str).str.extract(r'(\\d+)')\n",
    "        data['MATERIAL'] = data['Material'].astype(str).str.extract(r'(\\d+)')\n",
    "        data['DESCRIPCION'] = data['Material'].astype(str).str.extract(r'([A-Za-z].*)')\n",
    "        data['MONEDA'] = 'COP'\n",
    "        data['ALMACEN'] = data['Almacén'].astype(str).str.extract(r'(\\d+)')[0].str[4:]\n",
    " \n",
    "        data.rename(columns={\n",
    "            'CtdStk SV': 'CANTIDAD_STOCK',\n",
    "            'ValStkVal': 'VALOR_STOCK'\n",
    "        }, inplace=True)\n",
    " \n",
    "        data['CANTIDAD_STOCK'] = pd.to_numeric(data['CANTIDAD_STOCK'], errors='coerce')\n",
    "        execution_date = datetime.now().strftime('%Y-%m-%d')\n",
    "        data['FECHA_EJECUCION'] = execution_date\n",
    " \n",
    "        data_aggregated = data.groupby('MATERIAL').agg({\n",
    "            'CENTRO': lambda x: ', '.join(set(x.dropna())),\n",
    "            'DESCRIPCION': lambda x: ', '.join(set(x.dropna())),\n",
    "            'ALMACEN': lambda x: ', '.join(set(x.dropna())),\n",
    "            'CANTIDAD_STOCK': 'sum',\n",
    "            'VALOR_STOCK': 'sum',\n",
    "            'FECHA_EJECUCION': 'max'\n",
    "        }).reset_index()\n",
    " \n",
    "        data_aggregated.rename(columns={\n",
    "            'CENTRO': 'CENTROS',\n",
    "            'DESCRIPCION': 'DESCRIPCIONES',\n",
    "            'ALMACEN': 'ALMACENES',\n",
    "            'CANTIDAD_STOCK': 'CANTIDAD_STOCK_total',\n",
    "            'VALOR_STOCK': 'VALOR_STOCK_total'\n",
    "        }, inplace=True)\n",
    " \n",
    "        # Convertir VALOR_STOCK_total a string antes de realizar el reemplazo\n",
    "        data_aggregated['VALOR_STOCK_total'] = data_aggregated['VALOR_STOCK_total'].apply(lambda x: f'{x:,.2f}')\n",
    "        # Intercambiar comas por puntos y puntos por comas en 'VALOR_STOCK_total'\n",
    "        data_aggregated['VALOR_STOCK_total'] = data_aggregated['VALOR_STOCK_total'].str.replace('.', 'temp').str.replace(',', '.').str.replace('temp', ',')\n",
    " \n",
    "        # Agregar la columna \"MONEDA\" con todos sus valores\n",
    "        data_aggregated['MONEDA'] = 'COP'\n",
    " \n",
    "        output_file_path = r\"C:\\Users\\pracmt\\Downloads\\archivoactualizado.csv\"\n",
    "        data_aggregated.to_csv(output_file_path, index=False)\n",
    "        print(\"El archivo ha sido guardado exitosamente como:\", output_file_path)\n",
    "    except Exception as e:\n",
    "        print(f\"Error al ejecutar el script Python: {e}\")\n",
    "        \n",
    "execute_python_script()"
   ]
  }
 ],
 "metadata": {
  "kernelspec": {
   "display_name": "Python 3",
   "language": "python",
   "name": "python3"
  },
  "language_info": {
   "codemirror_mode": {
    "name": "ipython",
    "version": 3
   },
   "file_extension": ".py",
   "mimetype": "text/x-python",
   "name": "python",
   "nbconvert_exporter": "python",
   "pygments_lexer": "ipython3",
   "version": "3.11.9"
  }
 },
 "nbformat": 4,
 "nbformat_minor": 2
}
